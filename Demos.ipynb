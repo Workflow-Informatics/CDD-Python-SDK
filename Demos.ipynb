{
 "cells": [
  {
   "attachments": {},
   "cell_type": "markdown",
   "metadata": {},
   "source": [
    "# CDD-Python-API Quickstart Guide"
   ]
  },
  {
   "cell_type": "code",
   "execution_count": 9,
   "metadata": {},
   "outputs": [],
   "source": [
    "import pandas as pd\n",
    "import importlib\n",
    "import json\n",
    "from CDD_Python_API import CDD_API_Client as cdd"
   ]
  },
  {
   "cell_type": "code",
   "execution_count": 12,
   "metadata": {},
   "outputs": [
    {
     "data": {
      "text/plain": [
       "['__class__',\n",
       " '__delattr__',\n",
       " '__dict__',\n",
       " '__dir__',\n",
       " '__doc__',\n",
       " '__eq__',\n",
       " '__format__',\n",
       " '__ge__',\n",
       " '__getattribute__',\n",
       " '__gt__',\n",
       " '__hash__',\n",
       " '__init__',\n",
       " '__init_subclass__',\n",
       " '__le__',\n",
       " '__lt__',\n",
       " '__module__',\n",
       " '__ne__',\n",
       " '__new__',\n",
       " '__reduce__',\n",
       " '__reduce_ex__',\n",
       " '__repr__',\n",
       " '__setattr__',\n",
       " '__sizeof__',\n",
       " '__str__',\n",
       " '__subclasshook__',\n",
       " '__weakref__',\n",
       " 'buildQueryString',\n",
       " 'deleteBatches',\n",
       " 'deleteFiles',\n",
       " 'deleteMolecules',\n",
       " 'deletePlates',\n",
       " 'deleteReadoutRows',\n",
       " 'deleteRuns',\n",
       " 'formatHelp',\n",
       " 'getAPIKey',\n",
       " 'getAsyncExport',\n",
       " 'getBatches',\n",
       " 'getFields',\n",
       " 'getFile',\n",
       " 'getMappingTemplates',\n",
       " 'getMolecules',\n",
       " 'getPlates',\n",
       " 'getProjects',\n",
       " 'getProtocolData',\n",
       " 'getProtocols',\n",
       " 'getRun',\n",
       " 'getURL',\n",
       " 'getVaultNum',\n",
       " 'postBatches',\n",
       " 'postFiles',\n",
       " 'postMolecules',\n",
       " 'postSlurpsData',\n",
       " 'putBatches',\n",
       " 'putMolecules',\n",
       " 'putReadoutRows',\n",
       " 'putRuns',\n",
       " 'sendDeleteRequest',\n",
       " 'sendGetRequest',\n",
       " 'sendPostRequest',\n",
       " 'sendPutRequest',\n",
       " 'setAPIKey',\n",
       " 'setVaultNumAndURL']"
      ]
     },
     "execution_count": 12,
     "metadata": {},
     "output_type": "execute_result"
    }
   ],
   "source": [
    "vault_id = 4598\n",
    "api_key = 'MjY3NnxaOE5NUXRqWXVTZXJrN21IbzhzRkNldE42cGRVdXRBRkMwWDNqRXVvN2ttUkM4QkJ4UT09'\n",
    "\n",
    "dir(cdd.vaultClient)"
   ]
  },
  {
   "cell_type": "code",
   "execution_count": 13,
   "metadata": {},
   "outputs": [
    {
     "data": {
      "text/plain": [
       "<CDD_Python_API.CDD_API_Client.vaultClient at 0x240619a9df0>"
      ]
     },
     "execution_count": 13,
     "metadata": {},
     "output_type": "execute_result"
    }
   ],
   "source": [
    "connection = cdd.vaultClient(vault_id, api_key)\n",
    "connection"
   ]
  }
 ],
 "metadata": {
  "kernelspec": {
   "display_name": "base",
   "language": "python",
   "name": "python3"
  },
  "language_info": {
   "codemirror_mode": {
    "name": "ipython",
    "version": 3
   },
   "file_extension": ".py",
   "mimetype": "text/x-python",
   "name": "python",
   "nbconvert_exporter": "python",
   "pygments_lexer": "ipython3",
   "version": "3.9.12"
  },
  "orig_nbformat": 4,
  "vscode": {
   "interpreter": {
    "hash": "ad2bdc8ecc057115af97d19610ffacc2b4e99fae6737bb82f5d7fb13d2f2c186"
   }
  }
 },
 "nbformat": 4,
 "nbformat_minor": 2
}
