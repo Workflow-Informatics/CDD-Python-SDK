{
 "cells": [
  {
   "attachments": {},
   "cell_type": "markdown",
   "metadata": {},
   "source": [
    "# CDD-Python-API Quickstart Guide\n",
    "\n",
    "##### [Help on API Function Calls](https://support.collaborativedrug.com/hc/en-us/sections/115001607043-API-Function-Calls)"
   ]
  },
  {
   "attachments": {},
   "cell_type": "markdown",
   "metadata": {},
   "source": [
    "### Import __CDD_API_Client__ module as `cdd`\n",
    " - _CDD_API_Client_ is (currently) the only module in the _CDD_Python_API_ package\n",
    "\n",
    " - You may install the package manually in your python installation's `Lib\\` directory\n",
    " \n",
    " - Alternatively, you can install the package with pip:\n",
    "    - `pip install -e {path}`"
   ]
  },
  {
   "cell_type": "code",
   "execution_count": 49,
   "metadata": {},
   "outputs": [],
   "source": [
    "from CDD_Python_API import CDD_API_Client as cdd"
   ]
  },
  {
   "attachments": {},
   "cell_type": "markdown",
   "metadata": {},
   "source": [
    "### Import utility packages"
   ]
  },
  {
   "cell_type": "code",
   "execution_count": 50,
   "metadata": {},
   "outputs": [],
   "source": [
    "import pandas as pd\n",
    "import json"
   ]
  },
  {
   "attachments": {},
   "cell_type": "markdown",
   "metadata": {},
   "source": [
    "### Assign parameter values for `vault_id` and `api_key`\n",
    " - `vault_id` is the 4-digit code associated with your vault: _app.collaborativedrug.com/vaults/__####___\n",
    "\n",
    " - `api_key` is your user-specific API Key: [CDD Support](https://support.collaborativedrug.com/hc/en-us/articles/115005682263-Token-based-Authentication)\n",
    " \n",
    " - Pass `dir(cdd.vaultClient)` for a full list of associated methods"
   ]
  },
  {
   "cell_type": "code",
   "execution_count": 51,
   "metadata": {},
   "outputs": [],
   "source": [
    "vault_id = 0000 # add your vault num\n",
    "api_key = '#####' # add your api_key\n",
    "\n",
    "# dir(cdd.vaultClient)"
   ]
  },
  {
   "attachments": {},
   "cell_type": "markdown",
   "metadata": {},
   "source": [
    "### Creating a connection object"
   ]
  },
  {
   "cell_type": "code",
   "execution_count": 52,
   "metadata": {},
   "outputs": [
    {
     "data": {
      "text/plain": [
       "'4598 / MjY3NnxaOE5NUXRqWXVTZXJrN21IbzhzRkNldE42cGRVdXRBRkMwWDNqRXVvN2ttUkM4QkJ4UT09'"
      ]
     },
     "execution_count": 52,
     "metadata": {},
     "output_type": "execute_result"
    }
   ],
   "source": [
    "connection = cdd.vaultClient(vault_id, api_key)\n",
    "\n",
    "str(connection.vaultNum) + ' / ' + connection.apiKey"
   ]
  },
  {
   "attachments": {},
   "cell_type": "markdown",
   "metadata": {},
   "source": [
    "### Getting help"
   ]
  },
  {
   "cell_type": "code",
   "execution_count": 53,
   "metadata": {},
   "outputs": [
    {
     "name": "stdout",
     "output_type": "stream",
     "text": [
      "\n",
      "\n",
      "\n",
      "molecules:\n",
      "\n",
      "Comma-separated list of ids.\n",
      "Cannot be used with other parameters\n",
      "\n",
      "\n",
      "names:\n",
      "\n",
      "Comma-separated list of names/synonyms.\n",
      "\n",
      "\n",
      "async:\n",
      "\n",
      "Boolean. If true, do an asynchronous export (see Async Export).\n",
      "Use for large data sets. Note - always set to True when using Python API\n",
      "\n",
      "\n",
      "no_structures:\n",
      "\n",
      "Boolean. If true, omit structure representations\n",
      "for a smaller and faster response. Default: false\n",
      "\n",
      "\n",
      "only_ids:\n",
      "\n",
      "Boolean. If true, only the Molecule IDs are returned,\n",
      "allowing for a smaller and faster response. Default: false\n",
      "\n",
      "\n",
      "created_before:\n",
      "\n",
      "Date (YYYY-MM-DDThh:mm:ss±hh:mm)\n",
      "\n",
      "\n",
      "created_after:\n",
      "\n",
      "Date (YYYY-MM-DDThh:mm:ss±hh:mm)\n",
      "\n",
      "\n",
      "modified_before:\n",
      "\n",
      "Date (YYYY-MM-DDThh:mm:ss±hh:mm)\n",
      "\n",
      "\n",
      "modified_after:\n",
      "\n",
      "Date (YYYY-MM-DDThh:mm:ss±hh:mm)\n",
      "\n",
      "\n",
      "batch_created_before:\n",
      "\n",
      "\n",
      "\n",
      "\n",
      "batch_created_after:\n",
      "\n",
      "\n",
      "\n",
      "\n",
      "batch_field_before_name:\n",
      "\n",
      "\n",
      "\n",
      "\n",
      "batch_field_before_date:\n",
      "\n",
      "\n",
      "\n",
      "\n",
      "batch_field_after_name:\n",
      "\n",
      "\n",
      "\n",
      "\n",
      "batch_field_after_date:\n",
      "\n",
      "\n",
      "\n",
      "\n",
      "projects:\n",
      "\n",
      "Comma-separated list of project ids.\n",
      "Defaults to all available projects.\n",
      "Limits scope of query.\n",
      "\n",
      "\n",
      "structure:\n",
      "\n",
      "SMILES, cxsmiles or mol string for the query structure.\n",
      "Returns Molecules from the Vault that match the structure-based\n",
      "query submitted via this API call.\n",
      "\n",
      "\n",
      "structure_search_type:\n",
      "\n",
      "Available options are: 'exact', 'similarity' or 'substructure'.\n",
      "Default option is substructure.\n",
      "\n",
      "\n",
      "structure_similarity_threshold:\n",
      "\n",
      "A number between 0 and 1. Include this parameter only if the structure_search_type is 'similarity'.\n",
      "\n",
      "\n",
      "inchikey:\n",
      "\n",
      "A valid InchiKey. Use this parameter instead of the \"structure\" and\n",
      "\"structure_search_type\" parameters.\n",
      "\n",
      "\n",
      "molecule_fields:\n",
      "\n",
      "Array of Molecule field names to include in the resulting JSON.\n",
      "Use this parameter to limit the number of Molecule UDF Fields to return.\n",
      "\n",
      "\n",
      "batch_fields:\n",
      "\n",
      "Array of Batch field names to include in the resulting JSON.\n",
      "Use this parameter to limit the number of Batch UDF Fields to return.\n",
      "\n",
      "\n",
      "fields_search:\n",
      "\n",
      "Array of Molecule field names & values. Used to filter Molecules returned based on query values\n"
     ]
    }
   ],
   "source": [
    "connection.getMolecules(help=True)"
   ]
  },
  {
   "cell_type": "code",
   "execution_count": 59,
   "metadata": {},
   "outputs": [
    {
     "data": {
      "text/plain": [
       "['URL',\n",
       " '__class__',\n",
       " '__delattr__',\n",
       " '__dict__',\n",
       " '__dir__',\n",
       " '__doc__',\n",
       " '__eq__',\n",
       " '__format__',\n",
       " '__ge__',\n",
       " '__getattribute__',\n",
       " '__gt__',\n",
       " '__hash__',\n",
       " '__init__',\n",
       " '__init_subclass__',\n",
       " '__le__',\n",
       " '__lt__',\n",
       " '__module__',\n",
       " '__ne__',\n",
       " '__new__',\n",
       " '__reduce__',\n",
       " '__reduce_ex__',\n",
       " '__repr__',\n",
       " '__setattr__',\n",
       " '__sizeof__',\n",
       " '__str__',\n",
       " '__subclasshook__',\n",
       " '__weakref__',\n",
       " 'apiKey',\n",
       " 'buildQueryString',\n",
       " 'deleteBatches',\n",
       " 'deleteFiles',\n",
       " 'deleteMolecules',\n",
       " 'deletePlates',\n",
       " 'deleteReadoutRows',\n",
       " 'deleteRuns',\n",
       " 'formatHelp',\n",
       " 'getAPIKey',\n",
       " 'getAsyncExport',\n",
       " 'getBatches',\n",
       " 'getFields',\n",
       " 'getFile',\n",
       " 'getMappingTemplates',\n",
       " 'getMolecules',\n",
       " 'getPlates',\n",
       " 'getProjects',\n",
       " 'getProtocolData',\n",
       " 'getProtocols',\n",
       " 'getRun',\n",
       " 'getURL',\n",
       " 'getVaultNum',\n",
       " 'postBatches',\n",
       " 'postFiles',\n",
       " 'postMolecules',\n",
       " 'postSlurpsData',\n",
       " 'putBatches',\n",
       " 'putMolecules',\n",
       " 'putReadoutRows',\n",
       " 'putRuns',\n",
       " 'sendDeleteRequest',\n",
       " 'sendGetRequest',\n",
       " 'sendPostRequest',\n",
       " 'sendPutRequest',\n",
       " 'setAPIKey',\n",
       " 'setVaultNumAndURL',\n",
       " 'vaultNum']"
      ]
     },
     "execution_count": 59,
     "metadata": {},
     "output_type": "execute_result"
    }
   ],
   "source": [
    "dir(connection)"
   ]
  }
 ],
 "metadata": {
  "kernelspec": {
   "display_name": "base",
   "language": "python",
   "name": "python3"
  },
  "language_info": {
   "codemirror_mode": {
    "name": "ipython",
    "version": 3
   },
   "file_extension": ".py",
   "mimetype": "text/x-python",
   "name": "python",
   "nbconvert_exporter": "python",
   "pygments_lexer": "ipython3",
   "version": "3.9.12"
  },
  "orig_nbformat": 4,
  "vscode": {
   "interpreter": {
    "hash": "ad2bdc8ecc057115af97d19610ffacc2b4e99fae6737bb82f5d7fb13d2f2c186"
   }
  }
 },
 "nbformat": 4,
 "nbformat_minor": 2
}
