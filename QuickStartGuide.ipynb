{
 "cells": [
  {
   "attachments": {},
   "cell_type": "markdown",
   "metadata": {},
   "source": [
    "# CDD-Python-API Quickstart Guide\n",
    "\n",
    "##### [Help on API Function Calls](https://support.collaborativedrug.com/hc/en-us/sections/115001607043-API-Function-Calls)"
   ]
  },
  {
   "attachments": {},
   "cell_type": "markdown",
   "metadata": {},
   "source": [
    "## Install the __CDD-Python-API__ package"
   ]
  },
  {
   "attachments": {},
   "cell_type": "markdown",
   "metadata": {},
   "source": [
    "```bash\n",
    "git clone https://github.com/Workflow-Informatics/CDD-Python-API.git\n",
    "cd CDD-Python-API/\n",
    "python setup.py install\n",
    "```"
   ]
  },
  {
   "attachments": {},
   "cell_type": "markdown",
   "metadata": {},
   "source": [
    "### Import the `VaultClient` module"
   ]
  },
  {
   "cell_type": "code",
   "execution_count": 39,
   "metadata": {},
   "outputs": [],
   "source": [
    "from cdd.VaultClient import VaultClient"
   ]
  },
  {
   "attachments": {},
   "cell_type": "markdown",
   "metadata": {},
   "source": [
    "### Assign parameter values for `vault_id` and `api_key`\n",
    " - `vault_id` is the 4-digit code associated with your vault: _app.collaborativedrug.com/vaults/__####___\n",
    "\n",
    " - `api_key` is your user-specific API Key: [CDD Support](https://support.collaborativedrug.com/hc/en-us/articles/115005682263-Token-based-Authentication)\n",
    " \n",
    " - In iPython, Pass `dir(cdd.VaultClient)` for a full list of associated methods"
   ]
  },
  {
   "cell_type": "code",
   "execution_count": 40,
   "metadata": {},
   "outputs": [],
   "source": [
    "vault_id = 0000 # add your vault id\n",
    "api_key =  'Ut dolore justo ea ea ipsum lorem' # add your api key\n",
    "\n",
    "# dir(cdd.VaultClient)"
   ]
  },
  {
   "attachments": {},
   "cell_type": "markdown",
   "metadata": {},
   "source": [
    "### Instantiate your VaultClient"
   ]
  },
  {
   "cell_type": "code",
   "execution_count": 41,
   "metadata": {},
   "outputs": [
    {
     "data": {
      "text/plain": [
       "'4598 / MjY3NnxaOE5NUXRqWXVTZXJrN21IbzhzRkNldE42cGRVdXRBRkMwWDNqRXVvN2ttUkM4QkJ4UT09 / https://app.collaborativedrug.com/api/v1/vaults/4598'"
      ]
     },
     "execution_count": 41,
     "metadata": {},
     "output_type": "execute_result"
    }
   ],
   "source": [
    "vault = VaultClient(vault_id, api_key)\n",
    "\n",
    "str(vault.vaultNum) + ' / ' + vault.apiKey +' / ' + vault.URL"
   ]
  },
  {
   "attachments": {},
   "cell_type": "markdown",
   "metadata": {},
   "source": [
    "### Basic Function Call"
   ]
  },
  {
   "cell_type": "code",
   "execution_count": 42,
   "metadata": {},
   "outputs": [
    {
     "data": {
      "text/html": [
       "<div>\n",
       "<style scoped>\n",
       "    .dataframe tbody tr th:only-of-type {\n",
       "        vertical-align: middle;\n",
       "    }\n",
       "\n",
       "    .dataframe tbody tr th {\n",
       "        vertical-align: top;\n",
       "    }\n",
       "\n",
       "    .dataframe thead th {\n",
       "        text-align: right;\n",
       "    }\n",
       "</style>\n",
       "<table border=\"1\" class=\"dataframe\">\n",
       "  <thead>\n",
       "    <tr style=\"text-align: right;\">\n",
       "      <th></th>\n",
       "      <th>name</th>\n",
       "      <th>id</th>\n",
       "    </tr>\n",
       "  </thead>\n",
       "  <tbody>\n",
       "    <tr>\n",
       "      <th>0</th>\n",
       "      <td>My Special Project</td>\n",
       "      <td>6583</td>\n",
       "    </tr>\n",
       "    <tr>\n",
       "      <th>1</th>\n",
       "      <td>Sandbox Project</td>\n",
       "      <td>8317</td>\n",
       "    </tr>\n",
       "    <tr>\n",
       "      <th>2</th>\n",
       "      <td>BioUDM</td>\n",
       "      <td>18702</td>\n",
       "    </tr>\n",
       "    <tr>\n",
       "      <th>3</th>\n",
       "      <td>QC Test</td>\n",
       "      <td>22362</td>\n",
       "    </tr>\n",
       "    <tr>\n",
       "      <th>4</th>\n",
       "      <td>Xavo Demo Project</td>\n",
       "      <td>23450</td>\n",
       "    </tr>\n",
       "  </tbody>\n",
       "</table>\n",
       "</div>"
      ],
      "text/plain": [
       "                 name     id\n",
       "0  My Special Project   6583\n",
       "1     Sandbox Project   8317\n",
       "2              BioUDM  18702\n",
       "3             QC Test  22362\n",
       "4   Xavo Demo Project  23450"
      ]
     },
     "execution_count": 42,
     "metadata": {},
     "output_type": "execute_result"
    }
   ],
   "source": [
    "projects_df = vault.getProjects()\n",
    "projects_df"
   ]
  },
  {
   "cell_type": "code",
   "execution_count": 43,
   "metadata": {},
   "outputs": [
    {
     "data": {
      "text/html": [
       "<div>\n",
       "<style scoped>\n",
       "    .dataframe tbody tr th:only-of-type {\n",
       "        vertical-align: middle;\n",
       "    }\n",
       "\n",
       "    .dataframe tbody tr th {\n",
       "        vertical-align: top;\n",
       "    }\n",
       "\n",
       "    .dataframe thead th {\n",
       "        text-align: right;\n",
       "    }\n",
       "</style>\n",
       "<table border=\"1\" class=\"dataframe\">\n",
       "  <thead>\n",
       "    <tr style=\"text-align: right;\">\n",
       "      <th></th>\n",
       "      <th>id</th>\n",
       "      <th>class</th>\n",
       "      <th>created_at</th>\n",
       "      <th>modified_at</th>\n",
       "      <th>name</th>\n",
       "      <th>data_set</th>\n",
       "      <th>readout_definitions</th>\n",
       "      <th>calculations</th>\n",
       "      <th>runs</th>\n",
       "      <th>projects</th>\n",
       "      <th>owner</th>\n",
       "      <th>protocol_statistics</th>\n",
       "      <th>category</th>\n",
       "      <th>description</th>\n",
       "      <th>protocol_fields</th>\n",
       "    </tr>\n",
       "  </thead>\n",
       "  <tbody>\n",
       "    <tr>\n",
       "      <th>0</th>\n",
       "      <td>51599</td>\n",
       "      <td>protocol</td>\n",
       "      <td>2020-07-28T15:18:06.000Z</td>\n",
       "      <td>2021-11-05T22:25:51.000Z</td>\n",
       "      <td>Fake3</td>\n",
       "      <td>{'name': 'Chris Lowden's Sandbox', 'id': 4598}</td>\n",
       "      <td>[{'id': 584882, 'class': 'readout definition',...</td>\n",
       "      <td>[{'id': 26194, 'class': 'custom calculation', ...</td>\n",
       "      <td>[{'id': 395080, 'class': 'run', 'created_at': ...</td>\n",
       "      <td>[{'name': 'My Special Project', 'id': 6583}]</td>\n",
       "      <td>Chris Lowden</td>\n",
       "      <td>[{'protocol': {'id': 51599, 'name': 'Fake3'}, ...</td>\n",
       "      <td>Test_1</td>\n",
       "      <td>Totally Fake Data used to demonstrate the Spot...</td>\n",
       "      <td>{'Category': 'Test_1', 'Description': 'Totally...</td>\n",
       "    </tr>\n",
       "    <tr>\n",
       "      <th>1</th>\n",
       "      <td>55921</td>\n",
       "      <td>protocol</td>\n",
       "      <td>2021-01-22T16:47:37.000Z</td>\n",
       "      <td>2022-11-14T18:51:56.000Z</td>\n",
       "      <td>test_1</td>\n",
       "      <td>{'name': 'Chris Lowden's Sandbox', 'id': 4598}</td>\n",
       "      <td>[{'id': 644577, 'class': 'readout definition',...</td>\n",
       "      <td>[{'id': 16768, 'class': 'dose response calcula...</td>\n",
       "      <td>[{'id': 455932, 'class': 'run', 'created_at': ...</td>\n",
       "      <td>[{'name': 'My Special Project', 'id': 6583}]</td>\n",
       "      <td>Chris Lowden</td>\n",
       "      <td>[{'protocol': {'id': 55921, 'name': 'test_1'},...</td>\n",
       "      <td>pk</td>\n",
       "      <td>NaN</td>\n",
       "      <td>{'Category': 'pk'}</td>\n",
       "    </tr>\n",
       "    <tr>\n",
       "      <th>2</th>\n",
       "      <td>42391</td>\n",
       "      <td>protocol</td>\n",
       "      <td>2019-05-14T13:54:50.000Z</td>\n",
       "      <td>2022-11-29T20:29:04.000Z</td>\n",
       "      <td>Fake1</td>\n",
       "      <td>{'name': 'Chris Lowden's Sandbox', 'id': 4598}</td>\n",
       "      <td>[{'id': 464993, 'class': 'readout definition',...</td>\n",
       "      <td>NaN</td>\n",
       "      <td>[{'id': 282302, 'class': 'run', 'created_at': ...</td>\n",
       "      <td>[{'name': 'My Special Project', 'id': 6583}, {...</td>\n",
       "      <td>Chris Lowden</td>\n",
       "      <td>[{'protocol': {'id': 42391, 'name': 'Fake1'}, ...</td>\n",
       "      <td>Enzyme</td>\n",
       "      <td>Fake percent activity assay</td>\n",
       "      <td>{'Category': 'Enzyme', 'Description': 'Fake pe...</td>\n",
       "    </tr>\n",
       "    <tr>\n",
       "      <th>3</th>\n",
       "      <td>43556</td>\n",
       "      <td>protocol</td>\n",
       "      <td>2019-07-19T14:20:55.000Z</td>\n",
       "      <td>2022-10-21T18:37:11.000Z</td>\n",
       "      <td>PK</td>\n",
       "      <td>{'name': 'Chris Lowden's Sandbox', 'id': 4598}</td>\n",
       "      <td>[{'id': 480899, 'class': 'readout definition',...</td>\n",
       "      <td>NaN</td>\n",
       "      <td>[{'id': 395079, 'class': 'run', 'created_at': ...</td>\n",
       "      <td>[{'name': 'My Special Project', 'id': 6583}, {...</td>\n",
       "      <td>Chris Lowden</td>\n",
       "      <td>[{'protocol': {'id': 43556, 'name': 'PK'}, 're...</td>\n",
       "      <td>PK</td>\n",
       "      <td>Fake PK Assay</td>\n",
       "      <td>{'Category': 'PK', 'Description': 'Fake PK Ass...</td>\n",
       "    </tr>\n",
       "  </tbody>\n",
       "</table>\n",
       "</div>"
      ],
      "text/plain": [
       "      id  ...                                    protocol_fields\n",
       "0  51599  ...  {'Category': 'Test_1', 'Description': 'Totally...\n",
       "1  55921  ...                                 {'Category': 'pk'}\n",
       "2  42391  ...  {'Category': 'Enzyme', 'Description': 'Fake pe...\n",
       "3  43556  ...  {'Category': 'PK', 'Description': 'Fake PK Ass...\n",
       "\n",
       "[4 rows x 15 columns]"
      ]
     },
     "execution_count": 43,
     "metadata": {},
     "output_type": "execute_result"
    }
   ],
   "source": [
    "protocols_df = vault.getProtocols(projects= projects_df.at[0, 'id'])\n",
    "protocols_df"
   ]
  },
  {
   "attachments": {},
   "cell_type": "markdown",
   "metadata": {},
   "source": [
    "### Getting help"
   ]
  },
  {
   "cell_type": "code",
   "execution_count": 34,
   "metadata": {},
   "outputs": [
    {
     "name": "stdout",
     "output_type": "stream",
     "text": [
      "\n",
      "\n",
      "\n",
      "molecules:\n",
      "\n",
      "Comma-separated list of ids (not molecule names!).\n",
      "Cannot be used with other parameters\n",
      "\n",
      "\n",
      "names:\n",
      "\n",
      "Comma-separated list of names/synonyms.\n",
      "\n",
      "\n",
      "async:\n",
      "\n",
      "Boolean. If true, do an asynchronous export (see Async Export).\n",
      "Use for large data sets. Note - always set to True when using Python API\n",
      "\n",
      "\n",
      "no_structures:\n",
      "\n",
      "Boolean. If true, omit structure representations\n",
      "for a smaller and faster response. Default: false\n",
      "\n",
      "\n",
      "only_ids:\n",
      "\n",
      "Boolean. If true, only the Molecule IDs are returned,\n",
      "allowing for a smaller and faster response. Default: false\n",
      "\n",
      "\n",
      "created_before:\n",
      "\n",
      "Date (YYYY-MM-DDThh:mm:ss±hh:mm)\n",
      "\n",
      "\n",
      "created_after:\n",
      "\n",
      "Date (YYYY-MM-DDThh:mm:ss±hh:mm)\n",
      "\n",
      "\n",
      "modified_before:\n",
      "\n",
      "Date (YYYY-MM-DDThh:mm:ss±hh:mm)\n",
      "\n",
      "\n",
      "modified_after:\n",
      "\n",
      "Date (YYYY-MM-DDThh:mm:ss±hh:mm)\n",
      "\n",
      "\n",
      "batch_created_before:\n",
      "\n",
      "\n",
      "\n",
      "\n",
      "batch_created_after:\n",
      "\n",
      "\n",
      "\n",
      "\n",
      "batch_field_before_name:\n",
      "\n",
      "\n",
      "\n",
      "\n",
      "batch_field_before_date:\n",
      "\n",
      "\n",
      "\n",
      "\n",
      "batch_field_after_name:\n",
      "\n",
      "\n",
      "\n",
      "\n",
      "batch_field_after_date:\n",
      "\n",
      "\n",
      "\n",
      "\n",
      "page_size:\n",
      "\n",
      "The maximum # of objects to return.\n",
      "\n",
      "\n",
      "projects:\n",
      "\n",
      "Comma-separated list of project ids.\n",
      "Defaults to all available projects.\n",
      "Limits scope of query.\n",
      "\n",
      "\n",
      "data_sets:\n",
      "\n",
      "Comma-separated list of public data set ids.\n",
      "Defaults to no data sets. Limits scope of query.\n",
      "\n",
      "\n",
      "structure:\n",
      "\n",
      "SMILES, cxsmiles or mol string for the query structure.\n",
      "Returns Molecules from the Vault that match the structure-based\n",
      "query submitted via this API call.\n",
      "\n",
      "\n",
      "structure_search_type:\n",
      "\n",
      "Available options are: 'exact', 'similarity' or 'substructure'.\n",
      "Default option is substructure.\n",
      "\n",
      "\n",
      "structure_similarity_threshold:\n",
      "\n",
      "A number between 0 and 1. Include this parameter only if the structure_search_type is 'similarity'.\n",
      "\n",
      "\n",
      "inchikey:\n",
      "\n",
      "A valid InchiKey. Use this parameter instead of the \"structure\" and\n",
      "\"structure_search_type\" parameters.\n",
      "\n",
      "\n",
      "molecule_fields:\n",
      "\n",
      "Array of Molecule field names to include in the resulting JSON.\n",
      "Use this parameter to limit the number of Molecule UDF Fields to return.\n",
      "\n",
      "\n",
      "batch_fields:\n",
      "\n",
      "Array of Batch field names to include in the resulting JSON.\n",
      "Use this parameter to limit the number of Batch UDF Fields to return.\n",
      "\n",
      "\n",
      "fields_search:\n",
      "\n",
      "Array of Molecule field names & values. Used to filter Molecules returned based on query values\n"
     ]
    }
   ],
   "source": [
    "vault.getMolecules(help=True)"
   ]
  }
 ],
 "metadata": {
  "kernelspec": {
   "display_name": "base",
   "language": "python",
   "name": "python3"
  },
  "language_info": {
   "codemirror_mode": {
    "name": "ipython",
    "version": 3
   },
   "file_extension": ".py",
   "mimetype": "text/x-python",
   "name": "python",
   "nbconvert_exporter": "python",
   "pygments_lexer": "ipython3",
   "version": "3.9.13"
  },
  "orig_nbformat": 4,
  "vscode": {
   "interpreter": {
    "hash": "ad2bdc8ecc057115af97d19610ffacc2b4e99fae6737bb82f5d7fb13d2f2c186"
   }
  }
 },
 "nbformat": 4,
 "nbformat_minor": 2
}
