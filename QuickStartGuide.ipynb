{
 "cells": [
  {
   "attachments": {},
   "cell_type": "markdown",
   "metadata": {},
   "source": [
    "# CDD-Python-API Quickstart Guide\n",
    "\n",
    "##### [Help on API Function Calls](https://support.collaborativedrug.com/hc/en-us/sections/115001607043-API-Function-Calls)"
   ]
  },
  {
   "attachments": {},
   "cell_type": "markdown",
   "metadata": {},
   "source": [
    "### Import __CDD_API_Client__ module as `cdd`\n",
    " - _CDD_API_Client_ is (currently) the only module in the _CDD_Python_API_ package\n",
    "\n",
    " - You may install the package manually in your python installation's `Lib\\` directory\n",
    " \n",
    " - Alternatively, you can install the package with pip:\n",
    "    - `pip install -e {path}`"
   ]
  },
  {
   "cell_type": "code",
   "execution_count": 1,
   "metadata": {},
   "outputs": [],
   "source": [
    "from CDD_Python_API import CDD_API_Client as cdd"
   ]
  },
  {
   "attachments": {},
   "cell_type": "markdown",
   "metadata": {},
   "source": [
    "### Import utility packages"
   ]
  },
  {
   "cell_type": "code",
   "execution_count": 2,
   "metadata": {},
   "outputs": [],
   "source": [
    "import pandas as pd\n",
    "import json"
   ]
  },
  {
   "attachments": {},
   "cell_type": "markdown",
   "metadata": {},
   "source": [
    "### Assign parameter values for `vault_id` and `api_key`\n",
    " - `vault_id` is the 4-digit code associated with your vault: _app.collaborativedrug.com/vaults/__####___\n",
    "\n",
    " - `api_key` is your user-specific API Key: [CDD Support](https://support.collaborativedrug.com/hc/en-us/articles/115005682263-Token-based-Authentication)\n",
    " \n",
    " - Pass `dir(cdd.vaultClient)` for a full list of associated methods"
   ]
  },
  {
   "cell_type": "code",
   "execution_count": 3,
   "metadata": {},
   "outputs": [],
   "source": [
    "vault_id = 0000 # add your vault num\n",
    "api_key = '############################' # add your api_key\n",
    "\n",
    "# dir(cdd.vaultClient)"
   ]
  },
  {
   "attachments": {},
   "cell_type": "markdown",
   "metadata": {},
   "source": [
    "### Creating a connection object"
   ]
  },
  {
   "cell_type": "code",
   "execution_count": 4,
   "metadata": {},
   "outputs": [
    {
     "data": {
      "text/plain": [
       "'0 / ############################'"
      ]
     },
     "execution_count": 4,
     "metadata": {},
     "output_type": "execute_result"
    }
   ],
   "source": [
    "connection = cdd.vaultClient(vault_id, api_key)\n",
    "\n",
    "str(connection.vaultNum) + ' / ' + connection.apiKey"
   ]
  },
  {
   "attachments": {},
   "cell_type": "markdown",
   "metadata": {},
   "source": [
    "### Getting help"
   ]
  },
  {
   "cell_type": "code",
   "execution_count": 15,
   "metadata": {},
   "outputs": [
    {
     "name": "stdout",
     "output_type": "stream",
     "text": [
      "\n",
      "\n",
      "\n",
      "molecules:\n",
      "\n",
      "Comma-separated list of ids (not molecule names!).\n",
      "Cannot be used with other parameters\n",
      "\n",
      "\n",
      "names:\n",
      "\n",
      "Comma-separated list of names/synonyms.\n",
      "\n",
      "\n",
      "async:\n",
      "\n",
      "Boolean. If true, do an asynchronous export (see Async Export).\n",
      "Use for large data sets. Note - always set to True when using Python API\n",
      "\n",
      "\n",
      "no_structures:\n",
      "\n",
      "Boolean. If true, omit structure representations\n",
      "for a smaller and faster response. Default: false\n",
      "\n",
      "\n",
      "only_ids:\n",
      "\n",
      "Boolean. If true, only the Molecule IDs are returned,\n",
      "allowing for a smaller and faster response. Default: false\n",
      "\n",
      "\n",
      "created_before:\n",
      "\n",
      "Date (YYYY-MM-DDThh:mm:ss±hh:mm)\n",
      "\n",
      "\n",
      "created_after:\n",
      "\n",
      "Date (YYYY-MM-DDThh:mm:ss±hh:mm)\n",
      "\n",
      "\n",
      "modified_before:\n",
      "\n",
      "Date (YYYY-MM-DDThh:mm:ss±hh:mm)\n",
      "\n",
      "\n",
      "modified_after:\n",
      "\n",
      "Date (YYYY-MM-DDThh:mm:ss±hh:mm)\n",
      "\n",
      "\n",
      "batch_created_before:\n",
      "\n",
      "\n",
      "\n",
      "\n",
      "batch_created_after:\n",
      "\n",
      "\n",
      "\n",
      "\n",
      "batch_field_before_name:\n",
      "\n",
      "\n",
      "\n",
      "\n",
      "batch_field_before_date:\n",
      "\n",
      "\n",
      "\n",
      "\n",
      "batch_field_after_name:\n",
      "\n",
      "\n",
      "\n",
      "\n",
      "batch_field_after_date:\n",
      "\n",
      "\n",
      "\n",
      "\n",
      "projects:\n",
      "\n",
      "Comma-separated list of project ids.\n",
      "Defaults to all available projects.\n",
      "Limits scope of query.\n",
      "\n",
      "\n",
      "structure:\n",
      "\n",
      "SMILES, cxsmiles or mol string for the query structure.\n",
      "Returns Molecules from the Vault that match the structure-based\n",
      "query submitted via this API call.\n",
      "\n",
      "\n",
      "structure_search_type:\n",
      "\n",
      "Available options are: 'exact', 'similarity' or 'substructure'.\n",
      "Default option is substructure.\n",
      "\n",
      "\n",
      "structure_similarity_threshold:\n",
      "\n",
      "A number between 0 and 1. Include this parameter only if the structure_search_type is 'similarity'.\n",
      "\n",
      "\n",
      "inchikey:\n",
      "\n",
      "A valid InchiKey. Use this parameter instead of the \"structure\" and\n",
      "\"structure_search_type\" parameters.\n",
      "\n",
      "\n",
      "molecule_fields:\n",
      "\n",
      "Array of Molecule field names to include in the resulting JSON.\n",
      "Use this parameter to limit the number of Molecule UDF Fields to return.\n",
      "\n",
      "\n",
      "batch_fields:\n",
      "\n",
      "Array of Batch field names to include in the resulting JSON.\n",
      "Use this parameter to limit the number of Batch UDF Fields to return.\n",
      "\n",
      "\n",
      "fields_search:\n",
      "\n",
      "Array of Molecule field names & values. Used to filter Molecules returned based on query values\n"
     ]
    }
   ],
   "source": [
    "connection.getMolecules(help=True)\n",
    "# proj_list = connection.getProjects()\n",
    "# proj_list"
   ]
  },
  {
   "cell_type": "code",
   "execution_count": null,
   "metadata": {},
   "outputs": [],
   "source": []
  },
  {
   "cell_type": "code",
   "execution_count": 20,
   "metadata": {},
   "outputs": [
    {
     "name": "stdout",
     "output_type": "stream",
     "text": [
      "{'id': 22097541, 'created_at': '2023-01-11T23:56:04.000Z', 'modified_at': '2023-01-11T23:56:05.000Z', 'status': 'started'}\n",
      "{'id': 22097541, 'created_at': '2023-01-11T23:56:04.000Z', 'modified_at': '2023-01-11T23:56:05.000Z', 'status': 'finished'}\n"
     ]
    },
    {
     "data": {
      "text/html": [
       "<div>\n",
       "<style scoped>\n",
       "    .dataframe tbody tr th:only-of-type {\n",
       "        vertical-align: middle;\n",
       "    }\n",
       "\n",
       "    .dataframe tbody tr th {\n",
       "        vertical-align: top;\n",
       "    }\n",
       "\n",
       "    .dataframe thead th {\n",
       "        text-align: right;\n",
       "    }\n",
       "</style>\n",
       "<table border=\"1\" class=\"dataframe\">\n",
       "  <thead>\n",
       "    <tr style=\"text-align: right;\">\n",
       "      <th></th>\n",
       "      <th>id</th>\n",
       "      <th>class</th>\n",
       "      <th>created_at</th>\n",
       "      <th>modified_at</th>\n",
       "      <th>name</th>\n",
       "      <th>synonyms</th>\n",
       "      <th>registration_type</th>\n",
       "      <th>projects</th>\n",
       "      <th>owner</th>\n",
       "      <th>smiles</th>\n",
       "      <th>...</th>\n",
       "      <th>isotope_composition</th>\n",
       "      <th>topological_polar_surface_area</th>\n",
       "      <th>num_rotatable_bonds</th>\n",
       "      <th>cns_mpo_score</th>\n",
       "      <th>fsp3</th>\n",
       "      <th>batches</th>\n",
       "      <th>source_files</th>\n",
       "      <th>molecule_fields</th>\n",
       "      <th>udfs</th>\n",
       "      <th>cdd_registry_number</th>\n",
       "    </tr>\n",
       "  </thead>\n",
       "  <tbody>\n",
       "    <tr>\n",
       "      <th>0</th>\n",
       "      <td>103221394</td>\n",
       "      <td>molecule</td>\n",
       "      <td>2021-12-09T00:36:18.000Z</td>\n",
       "      <td>2022-07-27T02:37:31.000Z</td>\n",
       "      <td>WFI-0000876</td>\n",
       "      <td>[WFI-0000876, 6-amino-4-phenyl-2-sulfanylidene...</td>\n",
       "      <td>CHEMICAL_STRUCTURE</td>\n",
       "      <td>[{'name': 'BioUDM', 'id': 18702}]</td>\n",
       "      <td>Chris Lowden</td>\n",
       "      <td>C1(C#N)=C(N)N(C2C(O)C(O)C(O)CO2)C(=S)C(C#N)=C1...</td>\n",
       "      <td>...</td>\n",
       "      <td>C (56.24%), H (4.20%), N (14.57%), O (16.65%),...</td>\n",
       "      <td>148.45</td>\n",
       "      <td>2</td>\n",
       "      <td>3.82559</td>\n",
       "      <td>0.277778</td>\n",
       "      <td>[{'id': 108713861, 'class': 'batch', 'created_...</td>\n",
       "      <td>[{'id': 10705603, 'name': 'Fake_Mol_Lib.sdf'},...</td>\n",
       "      <td>{'projects': 'BioUDM'}</td>\n",
       "      <td>{'projects': 'BioUDM'}</td>\n",
       "      <td>NaN</td>\n",
       "    </tr>\n",
       "    <tr>\n",
       "      <th>1</th>\n",
       "      <td>103221396</td>\n",
       "      <td>molecule</td>\n",
       "      <td>2021-12-09T00:36:18.000Z</td>\n",
       "      <td>2022-07-27T02:37:31.000Z</td>\n",
       "      <td>WFI-0000878</td>\n",
       "      <td>[WFI-0000878, N-[3-methyl-3-nitro-5-(phenylfor...</td>\n",
       "      <td>CHEMICAL_STRUCTURE</td>\n",
       "      <td>[{'name': 'BioUDM', 'id': 18702}]</td>\n",
       "      <td>Chris Lowden</td>\n",
       "      <td>C(CCNC(=O)C1=CC=CC=C1)(CCNC(=O)C1=CC=CC=C1)([N...</td>\n",
       "      <td>...</td>\n",
       "      <td>C (65.03%), H (6.28%), N (11.37%), O (17.32%)</td>\n",
       "      <td>101.34</td>\n",
       "      <td>9</td>\n",
       "      <td>4.92366</td>\n",
       "      <td>0.300000</td>\n",
       "      <td>[{'id': 108713859, 'class': 'batch', 'created_...</td>\n",
       "      <td>[{'id': 10705603, 'name': 'Fake_Mol_Lib.sdf'},...</td>\n",
       "      <td>{'projects': 'BioUDM'}</td>\n",
       "      <td>{'projects': 'BioUDM'}</td>\n",
       "      <td>2193969.0</td>\n",
       "    </tr>\n",
       "  </tbody>\n",
       "</table>\n",
       "<p>2 rows × 41 columns</p>\n",
       "</div>"
      ],
      "text/plain": [
       "          id     class                created_at               modified_at  \\\n",
       "0  103221394  molecule  2021-12-09T00:36:18.000Z  2022-07-27T02:37:31.000Z   \n",
       "1  103221396  molecule  2021-12-09T00:36:18.000Z  2022-07-27T02:37:31.000Z   \n",
       "\n",
       "          name                                           synonyms  \\\n",
       "0  WFI-0000876  [WFI-0000876, 6-amino-4-phenyl-2-sulfanylidene...   \n",
       "1  WFI-0000878  [WFI-0000878, N-[3-methyl-3-nitro-5-(phenylfor...   \n",
       "\n",
       "    registration_type                           projects         owner  \\\n",
       "0  CHEMICAL_STRUCTURE  [{'name': 'BioUDM', 'id': 18702}]  Chris Lowden   \n",
       "1  CHEMICAL_STRUCTURE  [{'name': 'BioUDM', 'id': 18702}]  Chris Lowden   \n",
       "\n",
       "                                              smiles  ...  \\\n",
       "0  C1(C#N)=C(N)N(C2C(O)C(O)C(O)CO2)C(=S)C(C#N)=C1...  ...   \n",
       "1  C(CCNC(=O)C1=CC=CC=C1)(CCNC(=O)C1=CC=CC=C1)([N...  ...   \n",
       "\n",
       "                                 isotope_composition  \\\n",
       "0  C (56.24%), H (4.20%), N (14.57%), O (16.65%),...   \n",
       "1      C (65.03%), H (6.28%), N (11.37%), O (17.32%)   \n",
       "\n",
       "  topological_polar_surface_area num_rotatable_bonds cns_mpo_score      fsp3  \\\n",
       "0                         148.45                   2       3.82559  0.277778   \n",
       "1                         101.34                   9       4.92366  0.300000   \n",
       "\n",
       "                                             batches  \\\n",
       "0  [{'id': 108713861, 'class': 'batch', 'created_...   \n",
       "1  [{'id': 108713859, 'class': 'batch', 'created_...   \n",
       "\n",
       "                                        source_files         molecule_fields  \\\n",
       "0  [{'id': 10705603, 'name': 'Fake_Mol_Lib.sdf'},...  {'projects': 'BioUDM'}   \n",
       "1  [{'id': 10705603, 'name': 'Fake_Mol_Lib.sdf'},...  {'projects': 'BioUDM'}   \n",
       "\n",
       "                     udfs  cdd_registry_number  \n",
       "0  {'projects': 'BioUDM'}                  NaN  \n",
       "1  {'projects': 'BioUDM'}            2193969.0  \n",
       "\n",
       "[2 rows x 41 columns]"
      ]
     },
     "metadata": {},
     "output_type": "display_data"
    }
   ],
   "source": [
    "mols = connection.getMolecules(molecules= '103221396,103221394')\n",
    "display(mols)"
   ]
  },
  {
   "cell_type": "code",
   "execution_count": null,
   "metadata": {},
   "outputs": [],
   "source": []
  }
 ],
 "metadata": {
  "kernelspec": {
   "display_name": "base",
   "language": "python",
   "name": "python3"
  },
  "language_info": {
   "codemirror_mode": {
    "name": "ipython",
    "version": 3
   },
   "file_extension": ".py",
   "mimetype": "text/x-python",
   "name": "python",
   "nbconvert_exporter": "python",
   "pygments_lexer": "ipython3",
   "version": "3.9.12"
  },
  "orig_nbformat": 4,
  "vscode": {
   "interpreter": {
    "hash": "ad2bdc8ecc057115af97d19610ffacc2b4e99fae6737bb82f5d7fb13d2f2c186"
   }
  }
 },
 "nbformat": 4,
 "nbformat_minor": 2
}
